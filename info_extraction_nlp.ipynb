{
  "cells": [
    {
      "cell_type": "markdown",
      "metadata": {
        "id": "view-in-github",
        "colab_type": "text"
      },
      "source": [
        "<a href=\"https://colab.research.google.com/github/Ishatvb/Details_Extraction/blob/main/info_extraction_nlp.ipynb\" target=\"_parent\"><img src=\"https://colab.research.google.com/assets/colab-badge.svg\" alt=\"Open In Colab\"/></a>"
      ]
    },
    {
      "cell_type": "code",
      "execution_count": 22,
      "metadata": {
        "id": "iMvjMs_KH1gf",
        "colab": {
          "base_uri": "https://localhost:8080/"
        },
        "outputId": "5dffc386-b040-424a-bbd3-73d5c8e7e5f2"
      },
      "outputs": [
        {
          "output_type": "stream",
          "name": "stdout",
          "text": [
            "Original text: \n",
            "R. &amp; R. Diabetic &amp; Thyroid Clinic DR. ABHISHEK SHRIVASTAVA MD, FACE, MMsc, DMsc Endocrinology Advisory Council Member Central Zone American College of Physicians India Chapter Editorial Board Member JEMR ЯК Clinic : Near Madan Mahal Thana, Opposite HP Petrol Pump, Napier Town, Jabalpur Timings : 12 Noon to 7:30 PM Regd. No. 31955 Thyroid, Diabetes Obesity Specialist Sunday Closed 0008286 : Mr. Naveen Beohar (59y, Male ) - 9074210058 Date &amp; Time 18-May-202401:52PM .BP 113/72 mmHg | Random Blood Sugar - RBS 381mg/dL | Glycosylated Hemoglobin - HbA1c 11.2% [18-May-2024] Total Cholesterol - 191mg/dL. Serum HDL Cholesterol - 36.4md dL. Serum Triglycerides - 367mg/dL, Serum Creatinine - 0.6mg/dL eGFR - Creatinine Clearance - 111.20mL/min/1.73m2. TSH (Thyroid Stimulating Hormone) - 5.95ulU/mL. T4 - 6.18nmol/L Complaints: PAIN IN LEGS FLATULANCE BURNING SENSATION IN LEGS Diagnosis: DIABETES MELLITUS TYPE 2. DYSLIPIDEMIA, NEUROPATHY R Medicine 1) GLIZIHENZ M 80MG/500MG TABLET Dosage Freq. - Duration 1-0-1 Daily - 30 Days Composition : Gliclazide 80 MG + Metformin 500MG Timings : 1 Before Breakfast, 1 Night - Before Food -2) DAPAHENZ S 10/100 TABLET 0-1-0 Daily - 30 Days Composition : Dapagliflozin 10 MG Sitagliptin 100 MG Timings : 1 Afternoon - Before Food 3) FORTIUS F 20 0-0-1 Daily - 30 Days Timings : 1 Night - After Food 4) RABENDA PLUS 1-0-0 Daily - 20 Days Composition. Levosuipinde 75 MG - Rabeprazole 20 MG Timings 1 Before Breakfast 5) NEURONE G 0-0-1 Daily - 30 Days Composition. IMETHYLCOBALAMIN 1500 MCG - PREGABALIN 75MG Timings 1- Before sleeping at night Dr. phishek Shrivastava Appointment time 10 AM to 6.00 PM Mob. : 6267089757, 9977369339, 7869022999, 9098215024 Please take an appointment. R. &amp; R. Diabetic &amp; Thyroid Clinic DR. ABHISHEK SHRIVASTAVA MD, FACE, MMsc, DMsc Endocrinology Advisory Council Member Central Zone American College of Physicians India Chapter Editorial Board Member JEMR ЯК Clinic: Near Madan Mahal Police Station, Opposite HP Petrol Pump, Napier Town, Jabalpur Timings: 12 Noon to 7:30 PM Regd. No. 31955 Thyroid, Diabetes Obesity Specialist Sunday Holiday 0008286 : Mr. Naveen Beohar ( 59y, Male ) - 9074210058 Date &amp; Time 18 - May - 202401: 52PM .BP 113/72 mmHg | Random Blood Sugar - RBS 381mg / dL | Glycosylated Hemoglobin - HbA1c 11.2 % [ 18 - May - 2024 ] Total Cholesterol - 191mg / dL . Serum HDL Cholesterol - 36.4md dL. Serum Triglycerides - 367mg / dL , Serum Creatinine - 0.6mg / dL eGFR - Creatinine Clearance - 111.20mL / min / 1.73m2 . TSH (Thyroid Stimulating Hormone) – 5.95ulU/mL. T4 - 6.18nmol / L Complaints : PAIN IN LEGS FLATULANCE BURNING SENSATION IN LEGS Diagnosis : DIABETES MELLITUS TYPE 2. DYSLIPIDEMIA , NEUROPATHY R Medicine 1 ) GLIZIHENZ M 80MG / 500MG TABLET Dosage Freq . - Duration 1-0-1 Daily - 30 Days Composition : Gliclazide 80 MG + Metformin 500MG Timings : 1 Before Breakfast, 1 Night - Before Dinner - 2) DAPAHENZ S 10/100 TABLET 0-1-0 Daily - 30 Days Composition : Dapagliflozin 10 MG Sitagliptin 100 MG Timings : 1 Afternoon - Before Dinner 3) FORTIUS F 20 0-0-1 Daily - 30 Days Timings : 1 Night - After Dinner 4) RABENDA PLUS 1-0-0 Daily - 20 Days Composition . Levosuipinde 75 MG - Rabeprazole 20 MG Timings 1 Before Breakfast 5) NEURONE G 0-0-1 Daily - 30 Days Composition. IMETHYLCOBALAMIN 1500 MCG - PREGABALIN 75MG Timings 1- Before sleeping at night Dr. Phishek Shrivastava Appointment time 10 AM to 6.00 PM Mob. : 6267089757, 9977369339, 7869022999, 9098215024 Please take an appointment.\n",
            "\n",
            "Cleaned text: R. &amp; R. Diabetic &amp; Thyroid Clinic DR. ABHISHEK SHRIVASTAVA MD, FACE, MMsc, DMsc Endocrinology Advisory Council Member Central Zone American College of Physicians India Chapter Editorial Board Member JEMR ЯК Clinic : Near Madan Mahal Thana, Opposite HP Petrol Pump, Napier Town, Jabalpur Timings : 12 Noon to 7:30 PM Regd. No. 31955 Thyroid, Diabetes Obesity Specialist Sunday Closed 0008286 : Mr. Naveen Beohar (59y, Male ) - 9074210058 Date &amp; Time 18-May-202401:52PM .BP 113/72 mmHg | Random Blood Sugar - RBS 381mg/dL | Glycosylated Hemoglobin - HbA1c 11.2% [18-May-2024] Total Cholesterol - 191mg/dL. Serum HDL Cholesterol - 36.4md dL. Serum Triglycerides - 367mg/dL, Serum Creatinine - 0.6mg/dL eGFR - Creatinine Clearance - 111.20mL/min/1.73m2. TSH (Thyroid Stimulating Hormone) - 5.95ulU/mL. T4 - 6.18nmol/L Complaints: PAIN IN LEGS FLATULANCE BURNING SENSATION IN LEGS Diagnosis: DIABETES MELLITUS TYPE 2. DYSLIPIDEMIA, NEUROPATHY R Medicine 1) GLIZIHENZ M 80MG/500MG TABLET Dosage Freq. - Duration 1-0-1 Daily - 30 Days Composition : Gliclazide 80 MG + Metformin 500MG Timings : 1 Before Breakfast, 1 Night - Before Food -2) DAPAHENZ S 10/100 TABLET 0-1-0 Daily - 30 Days Composition : Dapagliflozin 10 MG Sitagliptin 100 MG Timings : 1 Afternoon - Before Food 3) FORTIUS F 20 0-0-1 Daily - 30 Days Timings : 1 Night - After Food 4) RABENDA PLUS 1-0-0 Daily - 20 Days Composition. Levosuipinde 75 MG - Rabeprazole 20 MG Timings 1 Before Breakfast 5) NEURONE G 0-0-1 Daily - 30 Days Composition. IMETHYLCOBALAMIN 1500 MCG - PREGABALIN 75MG Timings 1- Before sleeping at night Dr. phishek Shrivastava Appointment time 10 AM to 6.00 PM Mob. : 6267089757, 9977369339, 7869022999, 9098215024 Please take an appointment. R. &amp; R. Diabetic &amp; Thyroid Clinic DR. ABHISHEK SHRIVASTAVA MD, FACE, MMsc, DMsc Endocrinology Advisory Council Member Central Zone American College of Physicians India Chapter Editorial Board Member JEMR ЯК Clinic: Near Madan Mahal Police Station, Opposite HP Petrol Pump, Napier Town, Jabalpur Timings: 12 Noon to 7:30 PM Regd. No. 31955 Thyroid, Diabetes Obesity Specialist Sunday Holiday 0008286 : Mr. Naveen Beohar ( 59y, Male ) - 9074210058 Date &amp; Time 18 - May - 202401: 52PM .BP 113/72 mmHg | Random Blood Sugar - RBS 381mg / dL | Glycosylated Hemoglobin - HbA1c 11.2 % [ 18 - May - 2024 ] Total Cholesterol - 191mg / dL . Serum HDL Cholesterol - 36.4md dL. Serum Triglycerides - 367mg / dL , Serum Creatinine - 0.6mg / dL eGFR - Creatinine Clearance - 111.20mL / min / 1.73m2 . TSH (Thyroid Stimulating Hormone) – 5.95ulU/mL. T4 - 6.18nmol / L Complaints : PAIN IN LEGS FLATULANCE BURNING SENSATION IN LEGS Diagnosis : DIABETES MELLITUS TYPE 2. DYSLIPIDEMIA , NEUROPATHY R Medicine 1 ) GLIZIHENZ M 80MG / 500MG TABLET Dosage Freq . - Duration 1-0-1 Daily - 30 Days Composition : Gliclazide 80 MG + Metformin 500MG Timings : 1 Before Breakfast, 1 Night - Before Dinner - 2) DAPAHENZ S 10/100 TABLET 0-1-0 Daily - 30 Days Composition : Dapagliflozin 10 MG Sitagliptin 100 MG Timings : 1 Afternoon - Before Dinner 3) FORTIUS F 20 0-0-1 Daily - 30 Days Timings : 1 Night - After Dinner 4) RABENDA PLUS 1-0-0 Daily - 20 Days Composition . Levosuipinde 75 MG - Rabeprazole 20 MG Timings 1 Before Breakfast 5) NEURONE G 0-0-1 Daily - 30 Days Composition. IMETHYLCOBALAMIN 1500 MCG - PREGABALIN 75MG Timings 1- Before sleeping at night Dr. Phishek Shrivastava Appointment time 10 AM to 6.00 PM Mob. : 6267089757, 9977369339, 7869022999, 9098215024 Please take an appointment.\n"
          ]
        }
      ],
      "source": [
        "text=\"\"\"\n",
        "R. &amp; R. Diabetic &amp; Thyroid Clinic DR. ABHISHEK SHRIVASTAVA MD, FACE, MMsc, DMsc Endocrinology Advisory Council Member Central Zone American College of Physicians India Chapter Editorial Board Member JEMR ЯК Clinic : Near Madan Mahal Thana, Opposite HP Petrol Pump, Napier Town, Jabalpur Timings : 12 Noon to 7:30 PM Regd. No. 31955 Thyroid, Diabetes Obesity Specialist Sunday Closed 0008286 : Mr. Naveen Beohar (59y, Male ) - 9074210058 Date &amp; Time 18-May-202401:52PM .BP 113/72 mmHg | Random Blood Sugar - RBS 381mg/dL | Glycosylated Hemoglobin - HbA1c 11.2% [18-May-2024] Total Cholesterol - 191mg/dL. Serum HDL Cholesterol - 36.4md dL. Serum Triglycerides - 367mg/dL, Serum Creatinine - 0.6mg/dL eGFR - Creatinine Clearance - 111.20mL/min/1.73m2. TSH (Thyroid Stimulating Hormone) - 5.95ulU/mL. T4 - 6.18nmol/L Complaints: PAIN IN LEGS FLATULANCE BURNING SENSATION IN LEGS Diagnosis: DIABETES MELLITUS TYPE 2. DYSLIPIDEMIA, NEUROPATHY R Medicine 1) GLIZIHENZ M 80MG/500MG TABLET Dosage Freq. - Duration 1-0-1 Daily - 30 Days Composition : Gliclazide 80 MG + Metformin 500MG Timings : 1 Before Breakfast, 1 Night - Before Food -2) DAPAHENZ S 10/100 TABLET 0-1-0 Daily - 30 Days Composition : Dapagliflozin 10 MG Sitagliptin 100 MG Timings : 1 Afternoon - Before Food 3) FORTIUS F 20 0-0-1 Daily - 30 Days Timings : 1 Night - After Food 4) RABENDA PLUS 1-0-0 Daily - 20 Days Composition. Levosuipinde 75 MG - Rabeprazole 20 MG Timings 1 Before Breakfast 5) NEURONE G 0-0-1 Daily - 30 Days Composition. IMETHYLCOBALAMIN 1500 MCG - PREGABALIN 75MG Timings 1- Before sleeping at night Dr. phishek Shrivastava Appointment time 10 AM to 6.00 PM Mob. : 6267089757, 9977369339, 7869022999, 9098215024 Please take an appointment. R. &amp; R. Diabetic &amp; Thyroid Clinic DR. ABHISHEK SHRIVASTAVA MD, FACE, MMsc, DMsc Endocrinology Advisory Council Member Central Zone American College of Physicians India Chapter Editorial Board Member JEMR ЯК Clinic: Near Madan Mahal Police Station, Opposite HP Petrol Pump, Napier Town, Jabalpur Timings: 12 Noon to 7:30 PM Regd. No. 31955 Thyroid, Diabetes Obesity Specialist Sunday Holiday 0008286 : Mr. Naveen Beohar ( 59y, Male ) - 9074210058 Date &amp; Time 18 - May - 202401: 52PM .BP 113/72 mmHg | Random Blood Sugar - RBS 381mg / dL | Glycosylated Hemoglobin - HbA1c 11.2 % [ 18 - May - 2024 ] Total Cholesterol - 191mg / dL . Serum HDL Cholesterol - 36.4md dL. Serum Triglycerides - 367mg / dL , Serum Creatinine - 0.6mg / dL eGFR - Creatinine Clearance - 111.20mL / min / 1.73m2 . TSH (Thyroid Stimulating Hormone) – 5.95ulU/mL. T4 - 6.18nmol / L Complaints : PAIN IN LEGS FLATULANCE BURNING SENSATION IN LEGS Diagnosis : DIABETES MELLITUS TYPE 2. DYSLIPIDEMIA , NEUROPATHY R Medicine 1 ) GLIZIHENZ M 80MG / 500MG TABLET Dosage Freq . - Duration 1-0-1 Daily - 30 Days Composition : Gliclazide 80 MG + Metformin 500MG Timings : 1 Before Breakfast, 1 Night - Before Dinner - 2) DAPAHENZ S 10/100 TABLET 0-1-0 Daily - 30 Days Composition : Dapagliflozin 10 MG Sitagliptin 100 MG Timings : 1 Afternoon - Before Dinner 3) FORTIUS F 20 0-0-1 Daily - 30 Days Timings : 1 Night - After Dinner 4) RABENDA PLUS 1-0-0 Daily - 20 Days Composition . Levosuipinde 75 MG - Rabeprazole 20 MG Timings 1 Before Breakfast 5) NEURONE G 0-0-1 Daily - 30 Days Composition. IMETHYLCOBALAMIN 1500 MCG - PREGABALIN 75MG Timings 1- Before sleeping at night Dr. Phishek Shrivastava Appointment time 10 AM to 6.00 PM Mob. : 6267089757, 9977369339, 7869022999, 9098215024 Please take an appointment.\n",
        "\"\"\"\n",
        "\n",
        "import re\n",
        "\n",
        "def clean_text(text):\n",
        "\n",
        "    # text = text.lower()\n",
        "\n",
        "\n",
        "    # text = re.sub(r'[^\\w\\s]', '', text)\n",
        "\n",
        "    text = re.sub(r'\\s+', ' ', text).strip()\n",
        "\n",
        "    return text\n",
        "\n",
        "raw_text = text\n",
        "text = clean_text(raw_text)\n",
        "print(f\"Original text: {raw_text}\")\n",
        "print(f\"Cleaned text: {cleaned_text}\")\n"
      ]
    },
    {
      "cell_type": "code",
      "execution_count": 23,
      "metadata": {
        "colab": {
          "base_uri": "https://localhost:8080/"
        },
        "id": "40hufEu53ziC",
        "outputId": "8c945d54-5a72-4069-927f-558dd9cee265"
      },
      "outputs": [
        {
          "output_type": "stream",
          "name": "stdout",
          "text": [
            "['GLIZIHENZ', 'DAPAHENZ', 'FORTIUS', 'RABENDA', 'NEURONE', 'DAPAHENZ', 'FORTIUS', 'RABENDA', 'NEURONE']\n"
          ]
        }
      ],
      "source": [
        "import re\n",
        "\n",
        "def getMeds(text):\n",
        "    # Define the regex pattern\n",
        "    pattern = r'\\d+\\)\\s*(\\w+)'\n",
        "\n",
        "    # Find all matches\n",
        "    matches = re.findall(pattern, text)\n",
        "\n",
        "    return matches\n",
        "\n",
        "# Example usage\n",
        "\n",
        "meds = getMeds(text)\n",
        "print(meds)  # Output: ['Example', 'Test', 'Hello']\n"
      ]
    },
    {
      "cell_type": "code",
      "execution_count": 24,
      "metadata": {
        "colab": {
          "base_uri": "https://localhost:8080/"
        },
        "id": "akljtlrx4Df5",
        "outputId": "baf87f13-e7df-4b5e-bccb-cb044249badb"
      },
      "outputs": [
        {
          "output_type": "stream",
          "name": "stdout",
          "text": [
            "['1-0-1 Daily', '0-1-0 Daily', '0-0-1 Daily', '1-0-0 Daily', '0-0-1 Daily', '1-0-1 Daily', '0-1-0 Daily', '0-0-1 Daily', '1-0-0 Daily', '0-0-1 Daily']\n"
          ]
        }
      ],
      "source": [
        "import re\n",
        "\n",
        "def getDosage(text):\n",
        "\n",
        "    pattern = r'\\d-\\d-\\d Daily'\n",
        "\n",
        "    matches = re.findall(pattern, text)\n",
        "\n",
        "    return matches\n",
        "\n",
        "\n",
        "\n",
        "dosages = getDosage(text)\n",
        "print(dosages)\n"
      ]
    },
    {
      "cell_type": "code",
      "execution_count": 25,
      "metadata": {
        "colab": {
          "base_uri": "https://localhost:8080/"
        },
        "id": "9kGTiEewEWpf",
        "outputId": "2e7706f5-a1ae-4bea-d4b2-5507fdfccc99"
      },
      "outputs": [
        {
          "output_type": "stream",
          "name": "stdout",
          "text": [
            "['30 Days', '30 Days', '30 Days', '20 Days', '30 Days', '30 Days', '30 Days', '30 Days', '20 Days', '30 Days']\n"
          ]
        }
      ],
      "source": [
        "import re\n",
        "\n",
        "def getFreq(text):\n",
        "    # Define the regex pattern\n",
        "    pattern = r'\\d+ Days'\n",
        "\n",
        "    # Find all matches\n",
        "    matches = re.findall(pattern, text)\n",
        "\n",
        "    return matches\n",
        "\n",
        "\n",
        "frequencies= getFreq(text)\n",
        "print(frequencies)\n"
      ]
    },
    {
      "cell_type": "code",
      "execution_count": 25,
      "metadata": {
        "id": "tNW-l0w_IknW"
      },
      "outputs": [],
      "source": []
    },
    {
      "cell_type": "code",
      "execution_count": 26,
      "metadata": {
        "colab": {
          "base_uri": "https://localhost:8080/"
        },
        "id": "avo1UVIajTab",
        "outputId": "3e049707-d25b-44fb-9bec-640678752332"
      },
      "outputs": [
        {
          "output_type": "stream",
          "name": "stdout",
          "text": [
            "['1 Afternoon - Before Food', '1 Night - After Food', '1 Afternoon - Before Dinner', '1 Night - After Dinner']\n"
          ]
        }
      ],
      "source": [
        "import re\n",
        "\n",
        "def getTimings(text):\n",
        "\n",
        "    pattern = r\"Timings\\s*:\\s*(\\d+ [A-Za-z]+ - [A-Za-z]+(?: [A-Za-z]+)*)\"\n",
        "\n",
        "    # Find all matches in the text\n",
        "    matches = re.findall(pattern, text)\n",
        "\n",
        "    # Return the list of timings\n",
        "    return [match.strip() for match in matches]\n",
        "\n",
        "\n",
        "\n",
        "# Call the function and print the result\n",
        "timings_list = getTimings(text)\n",
        "print(timings_list)\n"
      ]
    },
    {
      "cell_type": "markdown",
      "metadata": {
        "id": "lmWwQ8zJF7u9"
      },
      "source": []
    },
    {
      "cell_type": "code",
      "execution_count": 31,
      "metadata": {
        "colab": {
          "base_uri": "https://localhost:8080/"
        },
        "id": "aQS3S9LWE6F0",
        "outputId": "e85dd495-925a-49e4-bdde-420dfb3cd179"
      },
      "outputs": [
        {
          "output_type": "stream",
          "name": "stdout",
          "text": [
            "{'GLIZIHENZ': ('1-0-1 Daily', '30 Days', '1 Afternoon - Before Food'), 'DAPAHENZ': ('0-1-0 Daily', '30 Days', '1 Night - After Food'), 'FORTIUS': ('0-0-1 Daily', '30 Days', '1 Afternoon - Before Dinner'), 'RABENDA': ('1-0-0 Daily', '20 Days', '1 Night - After Dinner'), 'NEURONE': ('0-0-1 Daily', '30 Days', None)}\n"
          ]
        }
      ],
      "source": [
        "# //dont edit this\n",
        "def extend_list(lst, length, default_value=None):\n",
        "    \"\"\"Extend a list to a specific length with a default value.\"\"\"\n",
        "    return lst + [default_value] * (length - len(lst))\n",
        "\n",
        "def mapMedicines(meds, dosages, frequencies, timings):\n",
        "\n",
        "    max_length = len(meds)\n",
        "    dosages = extend_list(dosages, max_length)\n",
        "    frequencies = extend_list(frequencies, max_length)\n",
        "    timings=extend_list(timings, max_length)\n",
        "\n",
        "    # Initialize an empty dictionary to hold the mappings\n",
        "    medicine_map = {}\n",
        "\n",
        "    # Iterate through the lists\n",
        "    for i in range(max_length):\n",
        "        med = meds[i]\n",
        "        dosage = dosages[i]\n",
        "        frequency = frequencies[i]\n",
        "        timing = timings[i]\n",
        "\n",
        "        # Store the medicine with its dosage and frequency\n",
        "        if med not in medicine_map:\n",
        "            medicine_map[med] = (dosage, frequency, timing)\n",
        "\n",
        "    return medicine_map\n",
        "\n",
        "# Example usage\n",
        "meds =getMeds(text)\n",
        "dosages = getDosage(text)\n",
        "frequencies = getFreq(text)\n",
        "timings=getTimings(text)\n",
        "\n",
        "mapping = mapMedicines(meds, dosages, frequencies, timings)\n",
        "print(mapping)"
      ]
    },
    {
      "cell_type": "code",
      "execution_count": 44,
      "metadata": {
        "id": "RgI67KaVHN-J"
      },
      "outputs": [],
      "source": []
    },
    {
      "cell_type": "code",
      "execution_count": 31,
      "metadata": {
        "id": "k9mApfcvU8r2"
      },
      "outputs": [],
      "source": []
    },
    {
      "cell_type": "code",
      "execution_count": 44,
      "metadata": {
        "id": "-Usg2xGMQktf"
      },
      "outputs": [],
      "source": []
    },
    {
      "cell_type": "code",
      "execution_count": 44,
      "metadata": {
        "id": "VMd69dtvSnm-"
      },
      "outputs": [],
      "source": [
        "\n"
      ]
    },
    {
      "cell_type": "code",
      "execution_count": 40,
      "metadata": {
        "id": "l7L1N3HUWRJE"
      },
      "outputs": [],
      "source": []
    },
    {
      "cell_type": "code",
      "execution_count": null,
      "metadata": {
        "id": "sk408ZikcgMA"
      },
      "outputs": [],
      "source": []
    },
    {
      "cell_type": "code",
      "execution_count": 40,
      "metadata": {
        "id": "2io_bWGFIoXN"
      },
      "outputs": [],
      "source": []
    },
    {
      "cell_type": "code",
      "execution_count": 44,
      "metadata": {
        "id": "Nr0HxQwLJtw-"
      },
      "outputs": [],
      "source": []
    },
    {
      "cell_type": "code",
      "execution_count": 44,
      "metadata": {
        "id": "uk53TaD-LdB8"
      },
      "outputs": [],
      "source": []
    },
    {
      "cell_type": "code",
      "execution_count": 44,
      "metadata": {
        "id": "TNoDiSJlLQTd"
      },
      "outputs": [],
      "source": []
    },
    {
      "cell_type": "code",
      "execution_count": null,
      "metadata": {
        "id": "-Tq2Se8SLaXt"
      },
      "outputs": [],
      "source": []
    }
  ],
  "metadata": {
    "colab": {
      "provenance": [],
      "include_colab_link": true
    },
    "kernelspec": {
      "display_name": "Python 3",
      "name": "python3"
    },
    "language_info": {
      "name": "python"
    }
  },
  "nbformat": 4,
  "nbformat_minor": 0
}