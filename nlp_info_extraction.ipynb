{
  "cells": [
    {
      "cell_type": "markdown",
      "metadata": {
        "id": "view-in-github",
        "colab_type": "text"
      },
      "source": [
        "<a href=\"https://colab.research.google.com/github/Ishatvb/Details_Extraction/blob/main/nlp_info_extraction.ipynb\" target=\"_parent\"><img src=\"https://colab.research.google.com/assets/colab-badge.svg\" alt=\"Open In Colab\"/></a>"
      ]
    },
    {
      "cell_type": "code",
      "execution_count": 93,
      "metadata": {
        "colab": {
          "base_uri": "https://localhost:8080/"
        },
        "id": "iMvjMs_KH1gf",
        "outputId": "b5f172cb-cac6-4f53-a730-2c04261964f8"
      },
      "outputs": [
        {
          "output_type": "stream",
          "name": "stdout",
          "text": [
            "\n",
            " 1) AMARYL M FORTE 2MG TABLET Dosage 1-0-1 Daily - 30 Days Composition : GLIMEPIRIDE 2 MG + METFORMIN 1000 MG Timing 1 - Before Breakfast, 1 - Night - Before Dinner 2) VIBITE M 50/ Daily - 30 Days Composition : 1) ECOSPRIN-AV 75/10 CAPSULE 0-0-1 Daily - 30 Days Composition : ASPIRIN 75 MG + ATORVASTATIN 10 MG Timing ::1 / Night - After Food 4) CALTIVITE PLUS M 0-0-1 Daily - 30 Days Timing 1- Night - After Food MARYL M FORTE GLIVEPR MET CRM SPRIN-AV 75/15 ARIN 75 LIM TE PLUMB 4-33-8 Powered by HealthPlix EMR. www.healthplix.com Date: Date: 15-Jul-2021 Dr. Abhishek Shrivastava  1) AMARYL M FORTE 2MG TABLET Dosage 1-0-1 Daily - 30 days Composition : GLIMEPIRIDE 2 MG + METFORMIN 1000 MG Timing 1 - Before breakfast, 1 - Night - Before dinner 2) VIBITE M 50/ Daily - 30 Days Composition : METFORMIN 500 MG + VILDAGLIPTIN 50 MG Timing : purn : be before breakfast, 1 - Night - before dinner 3 ) ECOSPRIN - AV 75/10 CAPSULE 0-0-1 Daily - 30 Days Composition : ASPIRIN 75 MG + ATORVASTATIN 10 MG Timing :: 1 / Night - after dinner 4 ) CALTIVITE PLUS M 0-0-1 Daily - 30 Days Timing 1- Night - after dinner MARYL M FORTE GLIVEPR MET CRM SPRIN - AV 75/15 ARIN 75 LIM TE PLUMB 4-33-8 Powered by HealthPlix EMR . www.healthplix.com Date : Date : 15 - Jul - 2021 Dr. Abhishek Shrivastava\n",
            "\n"
          ]
        }
      ],
      "source": [
        "\n",
        "text=\"\"\"\n",
        "R. &amp; R. Diabetic &amp; Thyroid Clinic Dr. Abhishek Shrivastava MD DMsc Endocrinology (England) Masters in Endocrinology RCP (England) Editorial Board Member Journal of Endocrinology and Metabolism Research Editorial Board Member MSD Research Publication ЯR akrilf-ch: Near Madan Mahal Police Station, Opposite HP Petrol Pump, Napier Town, Jabalpur Time :- 11 am to 7 pm Regd. No. 31955 Sunday Holiday Mob.: 7869022999, 6267089757 Ref.: 0004299: Praveen Beoher (58y, Female) - 9893043131 BP 90/60 mmHg Random Blood Sugar - RBS 258 mg/dL Complaints: NO MAJOR COMPLAINTS Diagnosis: DIABETES MELLITUS TYPE 2, HYPERTENSION, CAD, POST PTCA R Medicine 1) AMARYL M FORTE 2MG TABLET Dosage 1-0-1 Daily - 30 Days Composition : GLIMEPIRIDE 2 MG + METFORMIN 1000 MG Timing 1 - Before Breakfast, 1 - Night - Before Dinner 2) VIBITE M 50/500 1-0-1 Daily - 30 Days Composition : 1) ECOSPRIN-AV 75/10 CAPSULE 0-0-1 Daily - 30 Days Composition : ASPIRIN 75 MG + ATORVASTATIN 10 MG Timing ::1 / Night - After Food 4) CALTIVITE PLUS M 0-0-1 Daily - 30 Days Timing 1- Night - After Food MARYL M FORTE GLIVEPR MET CRM SPRIN-AV 75/15 ARIN 75 LIM TE PLUMB 4-33-8 Powered by HealthPlix EMR. www.healthplix.com Date: Date: 15-Jul-2021 Dr. Abhishek Shrivastava R. &amp; R. Diabetic &amp; Thyroid Clinic Dr. Abhishek Shrivastava MD DMsc Endocrinology ( England ) Masters in Endocrinology RCP ( England ) Editorial Board Member Journal of Endocrinology and Metabolism Research Editorial Board Member MSD Research Publication ЯR akrilf-ch: Near Madan Mahal Police Station, Opposite HP Petrol Pump, Napier Town, Jabalpur Time: 11 am to 7 pm Regd. No. 31955 Sunday Holiday Mob.: 7869022999 , 6267089757 Ref.: 0004299 : Praveen Beoher ( 58y , Female ) - 9893043131 BP 90/60 mmHg Random Blood Sugar - RBS 258 mg/dL Complaints : NO MAJOR COMPLAINTS Diagnosis : DIABETES MELLITUS TYPE 2 , HYPERTENSION , CAD , POST PTCA R Medicine 1) AMARYL M FORTE 2MG TABLET Dosage 1-0-1 Daily - 30 days Composition : GLIMEPIRIDE 2 MG + METFORMIN 1000 MG Timing 1 - Before breakfast, 1 - Night - Before dinner 2) VIBITE M 50/500 1-0-1 Daily - 30 Days Composition : METFORMIN 500 MG + VILDAGLIPTIN 50 MG Timing : purn : be before breakfast, 1 - Night - before dinner 3 ) ECOSPRIN - AV 75/10 CAPSULE 0-0-1 Daily - 30 Days Composition : ASPIRIN 75 MG + ATORVASTATIN 10 MG Timing :: 1 / Night - after dinner 4 ) CALTIVITE PLUS M 0-0-1 Daily - 30 Days Timing 1- Night - after dinner MARYL M FORTE GLIVEPR MET CRM SPRIN - AV 75/15 ARIN 75 LIM TE PLUMB 4-33-8 Powered by HealthPlix EMR . www.healthplix.com Date : Date : 15 - Jul - 2021 Dr. Abhishek Shrivastava\n",
        "\"\"\"\n",
        "import re\n",
        "\n",
        "def clean_text(text):\n",
        "    # Convert text to lowercase\n",
        "    # text = text.lower()\n",
        "\n",
        "    # Remove punctuation\n",
        "    # text = re.sub(r'[^\\w\\s]', '', text)\n",
        "\n",
        "    # Remove extra spaces\n",
        "    text = re.sub(r'\\s+', ' ', text).strip()\n",
        "\n",
        "    return text\n",
        "\n",
        "# # Example usage\n",
        "# raw_text = text\n",
        "# text = clean_text(raw_text)\n",
        "# print(f\"Original text: {raw_text}\")\n",
        "# print(f\"Cleaned text: {text}\")\n",
        "\n",
        "import re\n",
        "\n",
        "def remove_text_range(original_text, start_text, end_text):\n",
        "\n",
        "    # Escape special characters in the start_text and end_text\n",
        "    escaped_start_text = re.escape(start_text)\n",
        "    escaped_end_text = re.escape(end_text)\n",
        "\n",
        "    # Create the pattern to match text from start_text to end_text inclusive\n",
        "    pattern = rf'{escaped_start_text}.*?{escaped_end_text}'\n",
        "\n",
        "    # Remove the specified range\n",
        "    modified_text = re.sub(pattern, '', original_text, flags=re.DOTALL)\n",
        "\n",
        "    return modified_text\n",
        "\n",
        "def remove_phone_numbers(text):\n",
        "\n",
        "    # Define a regex pattern to match phone numbers\n",
        "    phone_number_pattern = r'\\+?\\d[\\d\\s()-]{7,}\\d'\n",
        "\n",
        "    # Remove phone numbers\n",
        "    cleaned_text = re.sub(phone_number_pattern, '', text)\n",
        "\n",
        "    return cleaned_text\n",
        "\n",
        "# Example usage\n",
        "original_text=text\n",
        "start_text = \"R. &amp; \"\n",
        "end_text = \"Medicine\"\n",
        "\n",
        "# Remove specified range\n",
        "text_without_range = remove_text_range(original_text, start_text, end_text)\n",
        "\n",
        "# Remove phone numbers\n",
        "cleaned_text = remove_phone_numbers(text_without_range)\n",
        "\n",
        "# print(cleaned_text)\n",
        "\n",
        "text=cleaned_text\n",
        "print(text)\n",
        "\n",
        "\n"
      ]
    },
    {
      "cell_type": "code",
      "source": [],
      "metadata": {
        "colab": {
          "base_uri": "https://localhost:8080/"
        },
        "id": "iXrqkJ3pO9JV",
        "outputId": "135db359-fec4-4a48-e3a7-74f91f719d55"
      },
      "execution_count": null,
      "outputs": [
        {
          "output_type": "stream",
          "name": "stdout",
          "text": [
            "['Translated', 'Text', '\\n ', '1', 'GLIZIHENZ', 'M', '80MG/500MG', 'TABLET', 'Dosage', 'Freq', 'Duration', '1', '0', '1', 'Daily', '30', 'Days', 'Composition', 'Gliclazide', '80', 'MG', 'Metformin', '500MG', 'Timings', '1', 'Before', 'Breakfast', '1', 'Night', 'Before', 'Food', '-2', 'DAPAHENZ', 'S', '10/100', 'TABLET', '0', '1', '0', 'Daily', '30', 'Days', 'Composition', 'Dapagliflozin', '10', 'MG', 'Sitagliptin', '100', 'MG', 'Timings', '1', 'Afternoon', 'Before', 'Food', '3', 'FORTIUS', 'F', '20', '0', '0', '1', 'Daily', '30', 'Days', 'Timings', '1', 'Night', 'After', 'Food', '4', 'RABENDA', 'PLUS', '1', '0', '0', 'Daily', '20', 'Days', 'Composition', 'Levosuipinde', '75', 'MG', 'Rabeprazole', '20', 'MG', 'Timings', '1', 'Before', 'Breakfast', '5', 'NEURONE', 'G', '0', '0', '1', 'Daily', '30', 'Days', 'Composition', 'IMETHYLCOBALAMIN', '1500', 'MCG', 'PREGABALIN', '75MG', 'Timings', '1-', 'Before', 'sleeping', 'at', 'night', 'Dr.', 'phishek', 'Shrivastava', 'Appointment', 'time', '10', 'AM', 'to', '6.00', 'PM', 'Mob', ' ', 'Please', 'take', 'an', 'appointment', ' ', '1', 'GLIZIHENZ', 'M', '80MG', '500MG', 'TABLET', 'Dosage', 'Freq', 'Duration', '1', '0', '1', 'Daily', '30', 'Days', 'Composition', 'Gliclazide', '80', 'MG', 'Metformin', '500MG', 'Timings', '1', 'Before', 'Breakfast', '1', 'Night', 'Before', 'Dinner', '2', 'DAPAHENZ', 'S', '10/100', 'TABLET', '0', '1', '0', 'Daily', '30', 'Days', 'Composition', 'Dapagliflozin', '10', 'MG', 'Sitagliptin', '100', 'MG', 'Timings', '1', 'Afternoon', 'Before', 'Dinner', '3', 'FORTIUS', 'F', '20', '0', '0', '1', 'Daily', '30', 'Days', 'Timings', '1', 'Night', 'After', 'Dinner', '4', 'RABENDA', 'PLUS', '1', '0', '0', 'Daily', '20', 'Days', 'Composition', 'Levosuipinde', '75', 'MG', 'Rabeprazole', '20', 'MG', 'Timings', '1', 'Before', 'Breakfast', '5', 'NEURONE', 'G', '0', '0', '1', 'Daily', '30', 'Days', 'Composition', 'IMETHYLCOBALAMIN', '1500', 'MCG', 'PREGABALIN', '75MG', 'Timings', '1-', 'Before', 'sleeping', 'at', 'night', 'Dr.', 'Phishek', 'Shrivastava', 'Appointment', 'time', '10', 'AM', 'to', '6.00', 'PM', 'Mob', ' ', 'Please', 'take', 'an', 'appointment']\n"
          ]
        }
      ]
    },
    {
      "cell_type": "code",
      "execution_count": 94,
      "metadata": {
        "colab": {
          "base_uri": "https://localhost:8080/"
        },
        "id": "40hufEu53ziC",
        "outputId": "77be0187-1daa-4a91-95cf-1cb4b8c7a06f"
      },
      "outputs": [
        {
          "output_type": "stream",
          "name": "stdout",
          "text": [
            "['VIBITE', 'CALTIVITE', 'ECOSPRIN', 'AMARYL']\n"
          ]
        }
      ],
      "source": [
        "import re\n",
        "\n",
        "def get_unique_meds(text):\n",
        "    # Define the regex pattern\n",
        "    pattern = r'\\d+\\)\\s*(\\w+)'\n",
        "\n",
        "    # Find all matches\n",
        "    matches = re.findall(pattern, text)\n",
        "\n",
        "    # Get unique matches by converting the list to a set\n",
        "    unique_matches = set(matches)\n",
        "\n",
        "    return list(unique_matches)\n",
        "\n",
        "\n",
        "meds = get_unique_meds(text)\n",
        "print(meds)\n",
        "\n"
      ]
    },
    {
      "cell_type": "code",
      "execution_count": 95,
      "metadata": {
        "colab": {
          "base_uri": "https://localhost:8080/"
        },
        "id": "akljtlrx4Df5",
        "outputId": "a09b3756-6225-4a33-b78f-0fbde324e98d"
      },
      "outputs": [
        {
          "output_type": "stream",
          "name": "stdout",
          "text": [
            "['1-0-1 Daily', '0-0-1 Daily', '0-0-1 Daily', '1-0-1 Daily', '0-0-1 Daily', '0-0-1 Daily']\n"
          ]
        }
      ],
      "source": [
        "import re\n",
        "\n",
        "def get_unique_dosages(text):\n",
        "    # Define the regex pattern\n",
        "    pattern = r'\\d-\\d-\\d Daily'\n",
        "\n",
        "    # Find all matches\n",
        "    matches = re.findall(pattern, text)\n",
        "\n",
        "    # Maintain order and uniqueness\n",
        "    # seen = set()\n",
        "    # unique_matches = []\n",
        "    # for match in matches:\n",
        "    #     if match not in seen:\n",
        "    #         unique_matches.append(match)\n",
        "    #         seen.add(match)\n",
        "\n",
        "    return matches\n",
        "\n",
        "\n",
        "dosages = get_unique_dosages(text)\n",
        "print(dosages)\n"
      ]
    },
    {
      "cell_type": "code",
      "execution_count": 101,
      "metadata": {
        "colab": {
          "base_uri": "https://localhost:8080/"
        },
        "id": "9kGTiEewEWpf",
        "outputId": "5e1f0465-e5ad-45e2-aa62-3d2ba4176ac7"
      },
      "outputs": [
        {
          "output_type": "stream",
          "name": "stdout",
          "text": [
            "['30 Days', '30 Days', '30 Days', '30 Days', '30 Days', '30 Days', '30 Days']\n"
          ]
        }
      ],
      "source": [
        "import re\n",
        "\n",
        "def getFreq(text):\n",
        "    # Define the regex pattern\n",
        "    pattern = r'\\d+ Days'\n",
        "\n",
        "    # Find all matches\n",
        "    matches = re.findall(pattern, text)\n",
        "\n",
        "    return matches\n",
        "\n",
        "\n",
        "frequencies= getFreq(text)\n",
        "print(frequencies)"
      ]
    },
    {
      "cell_type": "code",
      "execution_count": 97,
      "metadata": {
        "id": "tNW-l0w_IknW",
        "colab": {
          "base_uri": "https://localhost:8080/"
        },
        "outputId": "c5d6b72c-3d4f-4052-ee64-244f1169887a"
      },
      "outputs": [
        {
          "output_type": "stream",
          "name": "stdout",
          "text": [
            "Frequencies: ['30 days']\n",
            "Dosages: ['1-0-1 Daily', '0-0-1 Daily', '0-0-1 Daily', '1-0-1 Daily', '0-0-1 Daily', '0-0-1 Daily']\n"
          ]
        }
      ],
      "source": [
        "import re\n",
        "\n",
        "# def get_unique_dosages(text):\n",
        "#     # Define the regex pattern\n",
        "#     pattern = r'\\d-\\d-\\d Daily'\n",
        "\n",
        "#     # Find all matches\n",
        "#     matches = re.findall(pattern, text)\n",
        "\n",
        "#     # Maintain order and uniqueness\n",
        "#     seen = set()\n",
        "#     unique_matches = []\n",
        "#     for match in matches:\n",
        "#         if match not in seen:\n",
        "#             unique_matches.append(match)\n",
        "#             seen.add(match)\n",
        "\n",
        "#     return unique_matches\n",
        "\n",
        "frequencies = getFreq(text)\n",
        "# dosages = get_unique_dosages(text)\n",
        "\n",
        "# if len(frequencies) > len(dosages):\n",
        "#     frequencies = frequencies[:len(dosages)]\n",
        "# elif len(dosages) > len(frequencies):\n",
        "#     dosages = dosages[:len(frequencies)]\n",
        "\n",
        "print(\"Frequencies:\", frequencies)\n",
        "print(\"Dosages:\", dosages)\n"
      ]
    },
    {
      "cell_type": "code",
      "execution_count": 99,
      "metadata": {
        "colab": {
          "base_uri": "https://localhost:8080/"
        },
        "id": "avo1UVIajTab",
        "outputId": "770996ac-a383-44a1-b9be-dda1cbb8c138"
      },
      "outputs": [
        {
          "output_type": "stream",
          "name": "stdout",
          "text": [
            "[]\n"
          ]
        }
      ],
      "source": [
        "import re\n",
        "\n",
        "def getTimings(text):\n",
        "\n",
        "    pattern = r\"Timings\\s*:\\s*(\\d+ [A-Za-z]+ - [A-Za-z]+(?: [A-Za-z]+)*)\"\n",
        "\n",
        "    # Find all matches in the text\n",
        "    matches = re.findall(pattern, text)\n",
        "\n",
        "    # Return the list of timings\n",
        "    return [match.strip() for match in matches]\n",
        "\n",
        "\n",
        "\n",
        "# Call the function and print the result\n",
        "timings_list = getTimings(text)\n",
        "print(timings_list)"
      ]
    },
    {
      "cell_type": "markdown",
      "metadata": {
        "id": "lmWwQ8zJF7u9"
      },
      "source": []
    },
    {
      "cell_type": "code",
      "execution_count": 102,
      "metadata": {
        "colab": {
          "base_uri": "https://localhost:8080/"
        },
        "id": "aQS3S9LWE6F0",
        "outputId": "4c9a3bcf-2297-410c-906c-ba25771e35df"
      },
      "outputs": [
        {
          "output_type": "stream",
          "name": "stdout",
          "text": [
            "{'VIBITE': ('1-0-1 Daily', '30 Days', None), 'CALTIVITE': ('0-0-1 Daily', '30 Days', None), 'ECOSPRIN': ('0-0-1 Daily', '30 Days', None), 'AMARYL': ('1-0-1 Daily', '30 Days', None)}\n"
          ]
        }
      ],
      "source": [
        "# //dont edit this\n",
        "def extend_list(lst, length, default_value=None):\n",
        "    \"\"\"Extend a list to a specific length with a default value.\"\"\"\n",
        "    return lst + [default_value] * (length - len(lst))\n",
        "\n",
        "def mapMedicines(meds, dosages, frequencies, timings):\n",
        "    # Extend dosages and frequencies to match the length of meds\n",
        "    max_length = len(meds)\n",
        "    dosages = extend_list(dosages, max_length)\n",
        "    frequencies = extend_list(frequencies, max_length)\n",
        "    timings=extend_list(timings, max_length)\n",
        "\n",
        "    # Initialize an empty dictionary to hold the mappings\n",
        "    medicine_map = {}\n",
        "\n",
        "    # Iterate through the lists\n",
        "    for i in range(max_length):\n",
        "        med = meds[i]\n",
        "        dosage = dosages[i]\n",
        "        frequency = frequencies[i]\n",
        "        timing = timings[i]\n",
        "\n",
        "        # Store the medicine with its dosage and frequency\n",
        "        if med not in medicine_map:\n",
        "            medicine_map[med] = (dosage, frequency, timing)\n",
        "\n",
        "    return medicine_map\n",
        "\n",
        "# Example usage\n",
        "meds =get_unique_meds(text)\n",
        "dosages = get_unique_dosages(text)\n",
        "frequencies = getFreq(text)\n",
        "timings=getTimings(text)\n",
        "\n",
        "mapping = mapMedicines(meds, dosages, frequencies, timings)\n",
        "print(mapping)"
      ]
    },
    {
      "cell_type": "code",
      "execution_count": null,
      "metadata": {
        "id": "RgI67KaVHN-J"
      },
      "outputs": [],
      "source": []
    },
    {
      "cell_type": "code",
      "execution_count": null,
      "metadata": {
        "id": "k9mApfcvU8r2"
      },
      "outputs": [],
      "source": []
    },
    {
      "cell_type": "code",
      "execution_count": null,
      "metadata": {
        "colab": {
          "background_save": true,
          "base_uri": "https://localhost:8080/",
          "height": 203
        },
        "id": "-Usg2xGMQktf",
        "outputId": "f8db870a-103a-4d2a-f107-31c4c53a8cb4"
      },
      "outputs": [
        {
          "ename": "SyntaxError",
          "evalue": "invalid syntax (<ipython-input-35-69c9283b81fc>, line 1)",
          "output_type": "error",
          "traceback": [
            "\u001b[0;36m  File \u001b[0;32m\"<ipython-input-35-69c9283b81fc>\"\u001b[0;36m, line \u001b[0;32m1\u001b[0m\n\u001b[0;31m    pip install spacy\u001b[0m\n\u001b[0m        ^\u001b[0m\n\u001b[0;31mSyntaxError\u001b[0m\u001b[0;31m:\u001b[0m invalid syntax\n"
          ]
        }
      ],
      "source": []
    },
    {
      "cell_type": "code",
      "execution_count": null,
      "metadata": {
        "id": "VMd69dtvSnm-"
      },
      "outputs": [],
      "source": [
        "out_"
      ]
    },
    {
      "cell_type": "code",
      "execution_count": null,
      "metadata": {
        "id": "l7L1N3HUWRJE"
      },
      "outputs": [],
      "source": []
    },
    {
      "cell_type": "code",
      "execution_count": null,
      "metadata": {
        "id": "sk408ZikcgMA"
      },
      "outputs": [],
      "source": []
    },
    {
      "cell_type": "code",
      "execution_count": null,
      "metadata": {
        "colab": {
          "base_uri": "https://localhost:8080/"
        },
        "id": "2io_bWGFIoXN",
        "outputId": "a207145d-069c-4a74-9fca-46ec7748d35d"
      },
      "outputs": [
        {
          "name": "stdout",
          "output_type": "stream",
          "text": [
            "Collecting openai\n",
            "  Downloading openai-1.39.0-py3-none-any.whl.metadata (22 kB)\n",
            "Requirement already satisfied: anyio<5,>=3.5.0 in /usr/local/lib/python3.10/dist-packages (from openai) (3.7.1)\n",
            "Requirement already satisfied: distro<2,>=1.7.0 in /usr/lib/python3/dist-packages (from openai) (1.7.0)\n",
            "Collecting httpx<1,>=0.23.0 (from openai)\n",
            "  Downloading httpx-0.27.0-py3-none-any.whl.metadata (7.2 kB)\n",
            "Requirement already satisfied: pydantic<3,>=1.9.0 in /usr/local/lib/python3.10/dist-packages (from openai) (2.8.2)\n",
            "Requirement already satisfied: sniffio in /usr/local/lib/python3.10/dist-packages (from openai) (1.3.1)\n",
            "Requirement already satisfied: tqdm>4 in /usr/local/lib/python3.10/dist-packages (from openai) (4.66.4)\n",
            "Requirement already satisfied: typing-extensions<5,>=4.7 in /usr/local/lib/python3.10/dist-packages (from openai) (4.12.2)\n",
            "Requirement already satisfied: idna>=2.8 in /usr/local/lib/python3.10/dist-packages (from anyio<5,>=3.5.0->openai) (3.7)\n",
            "Requirement already satisfied: exceptiongroup in /usr/local/lib/python3.10/dist-packages (from anyio<5,>=3.5.0->openai) (1.2.2)\n",
            "Requirement already satisfied: certifi in /usr/local/lib/python3.10/dist-packages (from httpx<1,>=0.23.0->openai) (2024.7.4)\n",
            "Collecting httpcore==1.* (from httpx<1,>=0.23.0->openai)\n",
            "  Downloading httpcore-1.0.5-py3-none-any.whl.metadata (20 kB)\n",
            "Collecting h11<0.15,>=0.13 (from httpcore==1.*->httpx<1,>=0.23.0->openai)\n",
            "  Downloading h11-0.14.0-py3-none-any.whl.metadata (8.2 kB)\n",
            "Requirement already satisfied: annotated-types>=0.4.0 in /usr/local/lib/python3.10/dist-packages (from pydantic<3,>=1.9.0->openai) (0.7.0)\n",
            "Requirement already satisfied: pydantic-core==2.20.1 in /usr/local/lib/python3.10/dist-packages (from pydantic<3,>=1.9.0->openai) (2.20.1)\n",
            "Downloading openai-1.39.0-py3-none-any.whl (336 kB)\n",
            "\u001b[2K   \u001b[90m━━━━━━━━━━━━━━━━━━━━━━━━━━━━━━━━━━━━━━━━\u001b[0m \u001b[32m336.7/336.7 kB\u001b[0m \u001b[31m3.0 MB/s\u001b[0m eta \u001b[36m0:00:00\u001b[0m\n",
            "\u001b[?25hDownloading httpx-0.27.0-py3-none-any.whl (75 kB)\n",
            "\u001b[2K   \u001b[90m━━━━━━━━━━━━━━━━━━━━━━━━━━━━━━━━━━━━━━━━\u001b[0m \u001b[32m75.6/75.6 kB\u001b[0m \u001b[31m5.2 MB/s\u001b[0m eta \u001b[36m0:00:00\u001b[0m\n",
            "\u001b[?25hDownloading httpcore-1.0.5-py3-none-any.whl (77 kB)\n",
            "\u001b[2K   \u001b[90m━━━━━━━━━━━━━━━━━━━━━━━━━━━━━━━━━━━━━━━━\u001b[0m \u001b[32m77.9/77.9 kB\u001b[0m \u001b[31m5.5 MB/s\u001b[0m eta \u001b[36m0:00:00\u001b[0m\n",
            "\u001b[?25hDownloading h11-0.14.0-py3-none-any.whl (58 kB)\n",
            "\u001b[2K   \u001b[90m━━━━━━━━━━━━━━━━━━━━━━━━━━━━━━━━━━━━━━━━\u001b[0m \u001b[32m58.3/58.3 kB\u001b[0m \u001b[31m4.3 MB/s\u001b[0m eta \u001b[36m0:00:00\u001b[0m\n",
            "\u001b[?25hInstalling collected packages: h11, httpcore, httpx, openai\n",
            "Successfully installed h11-0.14.0 httpcore-1.0.5 httpx-0.27.0 openai-1.39.0\n"
          ]
        }
      ],
      "source": []
    },
    {
      "cell_type": "code",
      "execution_count": null,
      "metadata": {
        "colab": {
          "base_uri": "https://localhost:8080/",
          "height": 349
        },
        "id": "Nr0HxQwLJtw-",
        "outputId": "387bb69a-a562-40a4-f63b-6c53507a456b"
      },
      "outputs": [
        {
          "ename": "OpenAIError",
          "evalue": "The api_key client option must be set either by passing api_key to the client or by setting the OPENAI_API_KEY environment variable",
          "output_type": "error",
          "traceback": [
            "\u001b[0;31m---------------------------------------------------------------------------\u001b[0m",
            "\u001b[0;31mOpenAIError\u001b[0m                               Traceback (most recent call last)",
            "\u001b[0;32m<ipython-input-2-8d14d5d0e544>\u001b[0m in \u001b[0;36m<cell line: 2>\u001b[0;34m()\u001b[0m\n\u001b[1;32m      1\u001b[0m \u001b[0;32mfrom\u001b[0m \u001b[0mopenai\u001b[0m \u001b[0;32mimport\u001b[0m \u001b[0mOpenAI\u001b[0m\u001b[0;34m\u001b[0m\u001b[0;34m\u001b[0m\u001b[0m\n\u001b[0;32m----> 2\u001b[0;31m \u001b[0mclient\u001b[0m \u001b[0;34m=\u001b[0m \u001b[0mOpenAI\u001b[0m\u001b[0;34m(\u001b[0m\u001b[0;34m)\u001b[0m\u001b[0;34m\u001b[0m\u001b[0;34m\u001b[0m\u001b[0m\n\u001b[0m\u001b[1;32m      3\u001b[0m \u001b[0;34m\u001b[0m\u001b[0m\n\u001b[1;32m      4\u001b[0m completion = client.chat.completions.create(\n\u001b[1;32m      5\u001b[0m   \u001b[0mmodel\u001b[0m\u001b[0;34m=\u001b[0m\u001b[0;34m\"gpt-4o-mini\"\u001b[0m\u001b[0;34m,\u001b[0m\u001b[0;34m\u001b[0m\u001b[0;34m\u001b[0m\u001b[0m\n",
            "\u001b[0;32m/usr/local/lib/python3.10/dist-packages/openai/_client.py\u001b[0m in \u001b[0;36m__init__\u001b[0;34m(self, api_key, organization, project, base_url, timeout, max_retries, default_headers, default_query, http_client, _strict_response_validation)\u001b[0m\n\u001b[1;32m    103\u001b[0m             \u001b[0mapi_key\u001b[0m \u001b[0;34m=\u001b[0m \u001b[0mos\u001b[0m\u001b[0;34m.\u001b[0m\u001b[0menviron\u001b[0m\u001b[0;34m.\u001b[0m\u001b[0mget\u001b[0m\u001b[0;34m(\u001b[0m\u001b[0;34m\"OPENAI_API_KEY\"\u001b[0m\u001b[0;34m)\u001b[0m\u001b[0;34m\u001b[0m\u001b[0;34m\u001b[0m\u001b[0m\n\u001b[1;32m    104\u001b[0m         \u001b[0;32mif\u001b[0m \u001b[0mapi_key\u001b[0m \u001b[0;32mis\u001b[0m \u001b[0;32mNone\u001b[0m\u001b[0;34m:\u001b[0m\u001b[0;34m\u001b[0m\u001b[0;34m\u001b[0m\u001b[0m\n\u001b[0;32m--> 105\u001b[0;31m             raise OpenAIError(\n\u001b[0m\u001b[1;32m    106\u001b[0m                 \u001b[0;34m\"The api_key client option must be set either by passing api_key to the client or by setting the OPENAI_API_KEY environment variable\"\u001b[0m\u001b[0;34m\u001b[0m\u001b[0;34m\u001b[0m\u001b[0m\n\u001b[1;32m    107\u001b[0m             )\n",
            "\u001b[0;31mOpenAIError\u001b[0m: The api_key client option must be set either by passing api_key to the client or by setting the OPENAI_API_KEY environment variable"
          ]
        }
      ],
      "source": []
    },
    {
      "cell_type": "code",
      "execution_count": null,
      "metadata": {
        "colab": {
          "base_uri": "https://localhost:8080/"
        },
        "id": "uk53TaD-LdB8",
        "outputId": "2bf245f5-5d5e-4e8b-cd6a-ed417d8779aa"
      },
      "outputs": [
        {
          "name": "stdout",
          "output_type": "stream",
          "text": [
            "Collecting drug_named_entity_recognition\n",
            "  Downloading drug_named_entity_recognition-1.0.11-py3-none-any.whl.metadata (19 kB)\n",
            "Downloading drug_named_entity_recognition-1.0.11-py3-none-any.whl (1.1 MB)\n",
            "\u001b[2K   \u001b[90m━━━━━━━━━━━━━━━━━━━━━━━━━━━━━━━━━━━━━━━━\u001b[0m \u001b[32m1.1/1.1 MB\u001b[0m \u001b[31m11.1 MB/s\u001b[0m eta \u001b[36m0:00:00\u001b[0m\n",
            "\u001b[?25hInstalling collected packages: drug_named_entity_recognition\n",
            "Successfully installed drug_named_entity_recognition-1.0.11\n"
          ]
        }
      ],
      "source": []
    },
    {
      "cell_type": "code",
      "execution_count": null,
      "metadata": {
        "colab": {
          "base_uri": "https://localhost:8080/"
        },
        "id": "TNoDiSJlLQTd",
        "outputId": "f52d99c7-cc8b-4d04-b301-8a4c002fb11f"
      },
      "outputs": [
        {
          "data": {
            "text/plain": [
              "[({'name': 'Glimepiride',\n",
              "   'synonyms': ['Glimepiride',\n",
              "    'Glimépiride',\n",
              "    'Amaryl',\n",
              "    'Glimepiridum',\n",
              "    'Glimepirida'],\n",
              "   'medline_plus_id': 'a696016',\n",
              "   'generic_names': ['Glimepiride'],\n",
              "   'nhs_url': 'https://www.nhs.uk/medicines/glimepiride',\n",
              "   'drugbank_id': 'DB00222'},\n",
              "  172,\n",
              "  172),\n",
              " ({'name': 'Metformin',\n",
              "   'synonyms': ['Metformin',\n",
              "    'Metabet',\n",
              "    'Metformine',\n",
              "    'Glucophage',\n",
              "    'Dimethylguanylguanidine',\n",
              "    'Diagemet',\n",
              "    'Metforminum',\n",
              "    'Metformina',\n",
              "    'Glucient',\n",
              "    'Metformin HCl',\n",
              "    'HCl, Metformin',\n",
              "    'Metformin Hydrochloride',\n",
              "    'Glumetza',\n",
              "    'Dimethylbiguanid',\n",
              "    'Dimethylbiguanidine',\n",
              "    'Axpinet',\n",
              "    'Trijardy',\n",
              "    'Hydrochloride, Metformin',\n",
              "    'Fortamet',\n",
              "    '1,1-Dimethylbiguanide'],\n",
              "   'medline_plus_id': 'a696005',\n",
              "   'generic_names': ['Metformin'],\n",
              "   'nhs_url': 'https://www.nhs.uk/medicines/metformin',\n",
              "   'mesh_id': 'D007004',\n",
              "   'drugbank_id': 'DB00331',\n",
              "   'wikipedia_url': 'https://en.wikipedia.org/wiki/Metformin'},\n",
              "  175,\n",
              "  175),\n",
              " ({'name': 'Pioglitazone',\n",
              "   'synonyms': ['Pioglitazone',\n",
              "    '(±)-5-((4-(2-(5-ethyl-2-pyridinyl)ethoxy)phenyl)methyl)-2,4-thiazolidinedione',\n",
              "    'Pioglitazona',\n",
              "    'Pioglitazone Hydrochloride',\n",
              "    'U72,107A',\n",
              "    'AD 4833',\n",
              "    'AD4833',\n",
              "    'U-72107A',\n",
              "    '5-{4-[2-(5-ethylpyridin-2-yl)ethoxy]benzyl}-1,3-thiazolidine-2,4-dione',\n",
              "    'U 72107A',\n",
              "    'Actos',\n",
              "    'Pioglitazonum',\n",
              "    'AD-4833',\n",
              "    '5-(4-(2-(5-Ethyl-2-pyridyl)ethoxy)benzyl)-2,4-thiazolidinedione',\n",
              "    'U72107A'],\n",
              "   'medline_plus_id': 'a699016',\n",
              "   'generic_names': ['Pioglitazone'],\n",
              "   'nhs_url': 'https://www.nhs.uk/medicines/pioglitazone',\n",
              "   'mesh_id': 'D007004',\n",
              "   'drugbank_id': 'DB01132'},\n",
              "  178,\n",
              "  178),\n",
              " ({'name': 'Linagliptin',\n",
              "   'synonyms': ['Linagliptin',\n",
              "    'BI1356',\n",
              "    'Trajenta',\n",
              "    '1H-purine-2,6-dione, 8-((3r)-3-amino-1-piperidinyl)-7-(2-butynyl)-3,7-dihydro-3-methyl-1-((4-methyl-2-quinazolinyl)methyl)-',\n",
              "    'Linagliptina',\n",
              "    '(R)-8-(3-amino-piperidin-1-yl)-7-but-2-ynyl-3-methyl-1-(4-methyl-quinazolin-2-ylmethyl)-3,7-dihydro-purine-2,6-dione',\n",
              "    'Tradjenta',\n",
              "    '(R)-8-(3-aminopiperidin-1-yl)-7-but-2-ynyl-3-methyl-1-(4-methylquinazolin-2-ylmethyl)-3,7-dihydro-purine-2,6-dione',\n",
              "    'BI-1356',\n",
              "    '1356, BI',\n",
              "    'BI 1356'],\n",
              "   'medline_plus_id': 'a611036',\n",
              "   'generic_names': ['Linagliptin'],\n",
              "   'nhs_url': 'https://www.nhs.uk/medicines/linagliptin',\n",
              "   'mesh_id': 'D054873',\n",
              "   'drugbank_id': 'DB08882'},\n",
              "  207,\n",
              "  207),\n",
              " ({'name': 'Empagliflozin',\n",
              "   'synonyms': ['(1S)-1,5-anhydro-1-(4-chloro-3-{4-[(3S)-tetrahydrofuran-3-yloxy]benzyl}phenyl)-D-glucitol',\n",
              "    'Empagliflozine',\n",
              "    '1-chloro-4-(glucopyranos-1-yl)-2-(4-(tetrahydrofuran-3-yloxy)benzyl)benzene',\n",
              "    'Jardiance',\n",
              "    'Sciampa.M',\n",
              "    'Empagliflozin',\n",
              "    'Synjardy',\n",
              "    'Empagliflozina',\n",
              "    'Empagliflozinum',\n",
              "    'Jardiamet',\n",
              "    'Empagliflozin/metformin',\n",
              "    'Synjardy',\n",
              "    'Jardiamet',\n",
              "    'Empagliflozin/metformin',\n",
              "    'Synjardy'],\n",
              "   'medline_plus_id': 'a614043',\n",
              "   'generic_names': ['Empagliflozin'],\n",
              "   'nhs_url': 'https://www.nhs.uk/medicines/empagliflozin',\n",
              "   'drugbank_id': 'DB09038',\n",
              "   'wikipedia_url': 'https://en.wikipedia.org/wiki/Empagliflozin'},\n",
              "  210,\n",
              "  210),\n",
              " ({'name': 'Calcitriol',\n",
              "   'synonyms': ['D3, 1,25-Dihydroxyvitamin',\n",
              "    'Renatriol',\n",
              "    '1 alpha,25-Dihydroxycholecalciferol',\n",
              "    'Vectical',\n",
              "    'KyraMed, Calcitriol',\n",
              "    'Tirocal',\n",
              "    '1,25 Dihydroxycholecalciferol',\n",
              "    '1,25-dihydroxy-20-epi-Vitamin D3',\n",
              "    '1,25 Dihydroxyvitamin D3',\n",
              "    'Sitriol',\n",
              "    '1 alpha,25 Dihydroxyvitamin D3',\n",
              "    '1-alpha-25-Dihydroxyvitamin D3',\n",
              "    '1,25-dihydroxycholecalciferol',\n",
              "    'D3, 1,25-dihydroxy-20-epi-Vitamin',\n",
              "    '1α,25(OH)2D3',\n",
              "    '1α,25-dihydroxyvitamin D3',\n",
              "    'Bocatriol',\n",
              "    'Calcitriol',\n",
              "    '1,25-DHCC',\n",
              "    '20-epi-1alpha,25-dihydroxycholecaliferol',\n",
              "    'MC 1288',\n",
              "    'Decostriol',\n",
              "    'Calcitriolum',\n",
              "    '(1S,3R,5Z,7E)-9,10-secocholesta-5,7,10-triene-1,3,25-triol',\n",
              "    'MC-1288',\n",
              "    '1,25(OH)2-20epi-D3',\n",
              "    '(1α,3β,5Z,7E)-9,10-secocholesta-5,7,10(19)-triene-1,3,25-triol',\n",
              "    '1, 25-(OH)2D3',\n",
              "    'D3, 1 alpha,25-Dihydroxyvitamin',\n",
              "    '1 alpha, 25-dihydroxy-20-epi-Vitamin D3',\n",
              "    'Calcitriol Nefro',\n",
              "    'Silkis',\n",
              "    'Osteotriol',\n",
              "    '(5Z,7E)-(1S,3R)-9,10-secocholesta-5,7,10(19)-triene-1,3,25-triol',\n",
              "    'Calcitriol-Nefro',\n",
              "    'Calcijex',\n",
              "    '1,25(OH)2D3',\n",
              "    '1,25-Dihydroxycholecalciferol',\n",
              "    'MC1288',\n",
              "    '1 alpha,25-Dihydroxyvitamin D3',\n",
              "    'Rocaltrol',\n",
              "    'Soltriol',\n",
              "    'Calcitriol KyraMed',\n",
              "    '1,25 dihydroxy 20 epi Vitamin D3',\n",
              "    '1α,25-dihydroxycholecalciferol',\n",
              "    '1,25-Dihydroxyvitamin D3'],\n",
              "   'medline_plus_id': 'a613046',\n",
              "   'generic_names': ['Calcitriol'],\n",
              "   'mesh_id': 'D000077264',\n",
              "   'drugbank_id': 'DB00136'},\n",
              "  234,\n",
              "  234)]"
            ]
          },
          "execution_count": 4,
          "metadata": {},
          "output_type": "execute_result"
        }
      ],
      "source": []
    },
    {
      "cell_type": "code",
      "execution_count": null,
      "metadata": {
        "id": "-Tq2Se8SLaXt"
      },
      "outputs": [],
      "source": []
    }
  ],
  "metadata": {
    "colab": {
      "provenance": [],
      "include_colab_link": true
    },
    "kernelspec": {
      "display_name": "Python 3",
      "name": "python3"
    },
    "language_info": {
      "name": "python"
    }
  },
  "nbformat": 4,
  "nbformat_minor": 0
}